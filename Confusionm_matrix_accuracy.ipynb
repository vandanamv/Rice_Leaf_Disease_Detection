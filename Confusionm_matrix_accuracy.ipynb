{
 "cells": [
  {
   "cell_type": "code",
   "execution_count": null,
   "id": "a54ae492",
   "metadata": {},
   "outputs": [],
   "source": [
    "#thrid"
   ]
  },
  {
   "cell_type": "code",
   "execution_count": 1,
   "id": "ccd75f7b",
   "metadata": {},
   "outputs": [
    {
     "name": "stderr",
     "output_type": "stream",
     "text": [
      "C:\\Users\\vinod\\anaconda3\\lib\\site-packages\\pandas\\core\\computation\\expressions.py:21: UserWarning: Pandas requires version '2.8.0' or newer of 'numexpr' (version '2.7.3' currently installed).\n",
      "  from pandas.core.computation.check import NUMEXPR_INSTALLED\n",
      "C:\\Users\\vinod\\anaconda3\\lib\\site-packages\\pandas\\core\\arrays\\masked.py:62: UserWarning: Pandas requires version '1.3.4' or newer of 'bottleneck' (version '1.3.2' currently installed).\n",
      "  from pandas.core import (\n"
     ]
    }
   ],
   "source": [
    "import os\n",
    "import matplotlib.pyplot as plt\n",
    "import tensorflow as tf\n",
    "from tensorflow.keras.preprocessing.image import ImageDataGenerator\n",
    "from tensorflow.keras.applications import InceptionV3\n",
    "from tensorflow.keras.layers import Dense, GlobalAveragePooling2D\n",
    "from tensorflow.keras.models import Model\n",
    "from tensorflow.keras.optimizers import Adam\n",
    "import numpy as np\n",
    "from sklearn.metrics import confusion_matrix, ConfusionMatrixDisplay\n",
    "from tensorflow.keras.preprocessing import image"
   ]
  },
  {
   "cell_type": "code",
   "execution_count": 2,
   "id": "f86e6265",
   "metadata": {},
   "outputs": [],
   "source": [
    "train_data_dir = 'train'\n",
    "valid_data_dir = 'validation'\n"
   ]
  },
  {
   "cell_type": "code",
   "execution_count": 3,
   "id": "25b4a510",
   "metadata": {},
   "outputs": [],
   "source": [
    "# Dynamically determine the number of classes based on the subdirectories in the training directory\n",
    "class_names = os.listdir(train_data_dir)\n",
    "num_classes = len(class_names)"
   ]
  },
  {
   "cell_type": "code",
   "execution_count": 4,
   "id": "65c30383",
   "metadata": {},
   "outputs": [],
   "source": [
    "# Count the number of images in each class\n",
    "num_images_per_class = {}\n",
    "for class_name in class_names:\n",
    "    class_path = os.path.join(train_data_dir, class_name)\n",
    "    num_images = len(os.listdir(class_path))\n",
    "    num_images_per_class[class_name] = num_images\n"
   ]
  },
  {
   "cell_type": "code",
   "execution_count": 5,
   "id": "4c3f077d",
   "metadata": {},
   "outputs": [],
   "source": [
    "# Dynamically determine the image size from the first image in the training dataset\n",
    "sample_image_path = os.path.join(train_data_dir, class_names[0], os.listdir(os.path.join(train_data_dir, class_names[0]))[0])\n",
    "sample_image = tf.keras.preprocessing.image.load_img(sample_image_path)\n",
    "img_width, img_height = sample_image.size\n"
   ]
  },
  {
   "cell_type": "code",
   "execution_count": 6,
   "id": "ede6d316",
   "metadata": {},
   "outputs": [
    {
     "name": "stdout",
     "output_type": "stream",
     "text": [
      "Number of images per class:\n",
      "Bacterial blight: 628 images\n",
      "Blast: 648 images\n",
      "Brownspot: 628 images\n",
      "Healthy: 314 images\n",
      "Tungro: 628 images\n"
     ]
    }
   ],
   "source": [
    "# Print the number of images in each class\n",
    "print(\"Number of images per class:\")\n",
    "for class_name, num_images in num_images_per_class.items():\n",
    "    print(f\"{class_name}: {num_images} images\")\n"
   ]
  },
  {
   "cell_type": "code",
   "execution_count": 7,
   "id": "18bc740a",
   "metadata": {},
   "outputs": [],
   "source": [
    "# Data preprocessing\n",
    "train_datagen = ImageDataGenerator(\n",
    "    rescale=1.0/255,\n",
    "    rotation_range=30,\n",
    "    width_shift_range=0.2,\n",
    "    height_shift_range=0.2,\n",
    "    shear_range=0.2,\n",
    "    zoom_range=0.2,\n",
    "    horizontal_flip=True,\n",
    "    fill_mode='nearest'\n",
    ")"
   ]
  },
  {
   "cell_type": "code",
   "execution_count": 8,
   "id": "ea05bfa8",
   "metadata": {},
   "outputs": [],
   "source": [
    "valid_datagen = ImageDataGenerator(rescale=1.0/255)\n"
   ]
  },
  {
   "cell_type": "code",
   "execution_count": 9,
   "id": "1829e136",
   "metadata": {},
   "outputs": [
    {
     "name": "stdout",
     "output_type": "stream",
     "text": [
      "Found 2846 images belonging to 5 classes.\n"
     ]
    }
   ],
   "source": [
    "train_generator = train_datagen.flow_from_directory(\n",
    "    train_data_dir,\n",
    "    target_size=(img_width, img_height),\n",
    "    batch_size=32,\n",
    "    class_mode='categorical'\n",
    ")\n"
   ]
  },
  {
   "cell_type": "code",
   "execution_count": 10,
   "id": "9c66a75e",
   "metadata": {},
   "outputs": [
    {
     "name": "stdout",
     "output_type": "stream",
     "text": [
      "Found 180 images belonging to 5 classes.\n"
     ]
    }
   ],
   "source": [
    "valid_generator = valid_datagen.flow_from_directory(\n",
    "    valid_data_dir,\n",
    "    target_size=(img_width, img_height),\n",
    "    batch_size=32,\n",
    "    class_mode='categorical'\n",
    ")\n"
   ]
  },
  {
   "cell_type": "code",
   "execution_count": 11,
   "id": "d20110f7",
   "metadata": {},
   "outputs": [],
   "source": [
    "# Create InceptionV3 model for transfer learning\n",
    "base_model = InceptionV3(weights='imagenet', include_top=False)\n",
    "x = base_model.output\n",
    "x = GlobalAveragePooling2D()(x)\n",
    "x = Dense(1024, activation='relu')(x)\n",
    "predictions = Dense(num_classes, activation='softmax')(x)\n"
   ]
  },
  {
   "cell_type": "code",
   "execution_count": 12,
   "id": "89c5f62b",
   "metadata": {},
   "outputs": [],
   "source": [
    "model = Model(inputs=base_model.input, outputs=predictions)\n",
    "\n"
   ]
  },
  {
   "cell_type": "code",
   "execution_count": 13,
   "id": "9e09c104",
   "metadata": {},
   "outputs": [],
   "source": [
    "# Freeze the layers of the base model\n",
    "for layer in base_model.layers:\n",
    "    layer.trainable = False\n",
    "\n"
   ]
  },
  {
   "cell_type": "code",
   "execution_count": 14,
   "id": "b0cfd245",
   "metadata": {},
   "outputs": [],
   "source": [
    "# Compile the model\n",
    "model.compile(optimizer=Adam(learning_rate=0.0001), loss='categorical_crossentropy', metrics=['accuracy'])\n"
   ]
  },
  {
   "cell_type": "code",
   "execution_count": 16,
   "id": "2278ad55",
   "metadata": {},
   "outputs": [
    {
     "name": "stdout",
     "output_type": "stream",
     "text": [
      "Epoch 1/10\n",
      "88/88 [==============================] - 332s 4s/step - loss: 0.2222 - accuracy: 0.9250 - val_loss: 0.1876 - val_accuracy: 0.9375\n",
      "Epoch 2/10\n",
      "88/88 [==============================] - 313s 4s/step - loss: 0.1693 - accuracy: 0.9481 - val_loss: 0.1235 - val_accuracy: 0.9750\n",
      "Epoch 3/10\n",
      "88/88 [==============================] - 319s 4s/step - loss: 0.1558 - accuracy: 0.9520 - val_loss: 0.1172 - val_accuracy: 0.9688\n",
      "Epoch 4/10\n",
      "88/88 [==============================] - 305s 3s/step - loss: 0.1169 - accuracy: 0.9648 - val_loss: 0.1045 - val_accuracy: 0.9688\n",
      "Epoch 5/10\n",
      "88/88 [==============================] - 317s 4s/step - loss: 0.1065 - accuracy: 0.9687 - val_loss: 0.0994 - val_accuracy: 0.9625\n",
      "Epoch 6/10\n",
      "88/88 [==============================] - 311s 4s/step - loss: 0.1055 - accuracy: 0.9655 - val_loss: 0.0757 - val_accuracy: 0.9812\n",
      "Epoch 7/10\n",
      "88/88 [==============================] - 306s 3s/step - loss: 0.0836 - accuracy: 0.9787 - val_loss: 0.0652 - val_accuracy: 0.9875\n",
      "Epoch 8/10\n",
      "88/88 [==============================] - 289s 3s/step - loss: 0.0755 - accuracy: 0.9790 - val_loss: 0.0542 - val_accuracy: 0.9812\n",
      "Epoch 9/10\n",
      "88/88 [==============================] - 284s 3s/step - loss: 0.0737 - accuracy: 0.9741 - val_loss: 0.0549 - val_accuracy: 0.9812\n",
      "Epoch 10/10\n",
      "88/88 [==============================] - 285s 3s/step - loss: 0.0635 - accuracy: 0.9808 - val_loss: 0.0634 - val_accuracy: 0.9812\n"
     ]
    }
   ],
   "source": [
    "# Train the model\n",
    "history = model.fit(\n",
    "    train_generator,\n",
    "    steps_per_epoch=train_generator.samples // 32,\n",
    "    validation_data=valid_generator,\n",
    "    validation_steps=valid_generator.samples // 32,\n",
    "    epochs=10\n",
    ")\n"
   ]
  },
  {
   "cell_type": "code",
   "execution_count": 17,
   "id": "e3d134e3",
   "metadata": {},
   "outputs": [
    {
     "data": {
      "image/png": "[encoded data removed]",
      "text/plain": [
       "<Figure size 432x288 with 1 Axes>"
      ]
     },
     "metadata": {
      "needs_background": "light"
     },
     "output_type": "display_data"
    }
   ],
   "source": [
    "# Plot the training and validation accuracy\n",
    "plt.plot(history.history['accuracy'], label='Training Accuracy')\n",
    "plt.plot(history.history['val_accuracy'], label='Validation Accuracy')\n",
    "plt.title('Training and Validation Accuracy')\n",
    "plt.xlabel('Epoch')\n",
    "plt.ylabel('Accuracy')\n",
    "plt.legend()\n",
    "plt.show()"
   ]
  },
  {
   "cell_type": "code",
   "execution_count": 18,
   "id": "11fde45e",
   "metadata": {},
   "outputs": [
    {
     "data": {
      "image/png": "[encoded data removed]",
      "text/plain": [
       "<Figure size 432x288 with 1 Axes>"
      ]
     },
     "metadata": {
      "needs_background": "light"
     },
     "output_type": "display_data"
    }
   ],
   "source": [
    "# Plot the training and validation loss\n",
    "plt.plot(history.history['loss'], label='Training Loss')\n",
    "plt.plot(history.history['val_loss'], label='Validation Loss')\n",
    "plt.title('Training and Validation Loss')\n",
    "plt.xlabel('Epoch')\n",
    "plt.ylabel('Loss')\n",
    "plt.legend()\n",
    "plt.show()"
   ]
  },
  {
   "cell_type": "code",
   "execution_count": 19,
   "id": "b1e742d9",
   "metadata": {},
   "outputs": [
    {
     "name": "stdout",
     "output_type": "stream",
     "text": [
      "6/6 [==============================] - 15s 2s/step\n"
     ]
    }
   ],
   "source": [
    "\n",
    "# Confusion Matrix\n",
    "y_true = valid_generator.classes\n",
    "y_pred = model.predict(valid_generator)\n",
    "y_pred_classes = np.argmax(y_pred, axis=1)\n"
   ]
  },
  {
   "cell_type": "code",
   "execution_count": 20,
   "id": "9631057a",
   "metadata": {},
   "outputs": [
    {
     "data": {
      "image/png": "[encoded data removed]",
      "text/plain": [
       "<Figure size 432x288 with 2 Axes>"
      ]
     },
     "metadata": {
      "needs_background": "light"
     },
     "output_type": "display_data"
    }
   ],
   "source": [
    "cm = confusion_matrix(y_true, y_pred_classes, labels=range(num_classes))\n",
    "disp = ConfusionMatrixDisplay(confusion_matrix=cm, display_labels=class_names)\n",
    "disp.plot(cmap=plt.cm.Blues, values_format=\".4g\")\n",
    "plt.title(\"Confusion Matrix\")\n",
    "plt.show()"
   ]
  },
  {
   "cell_type": "code",
   "execution_count": 22,
   "id": "c9c65668",
   "metadata": {},
   "outputs": [
    {
     "name": "stdout",
     "output_type": "stream",
     "text": [
      "INFO:tensorflow:Assets written to: model_path\\assets\n"
     ]
    },
    {
     "name": "stderr",
     "output_type": "stream",
     "text": [
      "INFO:tensorflow:Assets written to: model_path\\assets\n"
     ]
    }
   ],
   "source": [
    "# Save the trained model\n",
    "model.save('model_path')"
   ]
  },
  {
   "cell_type": "code",
   "execution_count": 23,
   "id": "88094434",
   "metadata": {},
   "outputs": [
    {
     "name": "stdout",
     "output_type": "stream",
     "text": [
      "INFO:tensorflow:Assets written to: model_path\\assets\n"
     ]
    },
    {
     "name": "stderr",
     "output_type": "stream",
     "text": [
      "INFO:tensorflow:Assets written to: model_path\\assets\n"
     ]
    }
   ],
   "source": [
    "# Save the trained model\n",
    "model.save('model_path')\n"
   ]
  },
  {
   "cell_type": "code",
   "execution_count": 24,
   "id": "ec106dcd",
   "metadata": {},
   "outputs": [],
   "source": [
    "# Load the trained model\n",
    "loaded_model = tf.keras.models.load_model('model_path')"
   ]
  },
  {
   "cell_type": "code",
   "execution_count": 26,
   "id": "34f74e28",
   "metadata": {},
   "outputs": [],
   "source": [
    "# Load and preprocess the new rice leaf image\n",
    "image_path = 'test_img.jpg'  # Replace with the path to your new image\n",
    "img = image.load_img(image_path, target_size=(img_width, img_height))\n",
    "img_array = image.img_to_array(img)\n",
    "img_array = np.expand_dims(img_array, axis=0)\n",
    "img_array /= 255.0  # Normalize the image\n"
   ]
  },
  {
   "cell_type": "code",
   "execution_count": 27,
   "id": "448c3577",
   "metadata": {},
   "outputs": [
    {
     "name": "stdout",
     "output_type": "stream",
     "text": [
      "1/1 [==============================] - 1s 1s/step\n"
     ]
    }
   ],
   "source": [
    "# Make predictions using the loaded model\n",
    "predictions = loaded_model.predict(img_array)\n"
   ]
  },
  {
   "cell_type": "code",
   "execution_count": 28,
   "id": "e6c063c3",
   "metadata": {},
   "outputs": [],
   "source": [
    "# Interpret the predictions\n",
    "class_labels = train_generator.class_indices  # Get class labels from the training generator\n",
    "predicted_class = list(class_labels.keys())[np.argmax(predictions)]\n"
   ]
  },
  {
   "cell_type": "code",
   "execution_count": 29,
   "id": "79e8a113",
   "metadata": {},
   "outputs": [
    {
     "name": "stdout",
     "output_type": "stream",
     "text": [
      "Predicted Class: Blast\n"
     ]
    }
   ],
   "source": [
    "# Print the predicted class\n",
    "print(\"Predicted Class:\", predicted_class)\n"
   ]
  },
  {
   "cell_type": "code",
   "execution_count": null,
   "id": "49260e35",
   "metadata": {},
   "outputs": [],
   "source": []
  }
 ],
 "metadata": {
  "kernelspec": {
   "display_name": "Python 3 (ipykernel)",
   "language": "python",
   "name": "python3"
  },
  "language_info": {
   "codemirror_mode": {
    "name": "ipython",
    "version": 3
   },
   "file_extension": ".py",
   "mimetype": "text/x-python",
   "name": "python",
   "nbconvert_exporter": "python",
   "pygments_lexer": "ipython3",
   "version": "3.9.7"
  }
 },
 "nbformat": 4,
 "nbformat_minor": 5
}
